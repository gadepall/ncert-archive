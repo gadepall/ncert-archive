{
  "nbformat": 4,
  "nbformat_minor": 0,
  "metadata": {
    "colab": {
      "name": "Untitled16.ipynb",
      "provenance": [],
      "authorship_tag": "ABX9TyNRbqhyt6b+FvZiW5vts2Dm",
      "include_colab_link": true
    },
    "kernelspec": {
      "name": "python3",
      "display_name": "Python 3"
    },
    "language_info": {
      "name": "python"
    }
  },
  "cells": [
    {
      "cell_type": "markdown",
      "metadata": {
        "id": "view-in-github",
        "colab_type": "text"
      },
      "source": [
        "<a href=\"https://colab.research.google.com/github/Vallidevibolla/Assignment-2-1/blob/main/Untitled16.ipynb\" target=\"_parent\"><img src=\"https://colab.research.google.com/assets/colab-badge.svg\" alt=\"Open In Colab\"/></a>"
      ]
    },
    {
      "cell_type": "code",
      "metadata": {
        "colab": {
          "base_uri": "https://localhost:8080/",
          "height": 281
        },
        "id": "405OK7QKTZR1",
        "outputId": "c335cb4b-a22e-4c4a-a0b2-b05fd6890b28"
      },
      "source": [
        "import matplotlib.pyplot as plt \n",
        "import numpy as np \n",
        "\n",
        "import subprocess\n",
        "import shlex\n",
        "\n",
        "plt.axis([-6,12,-6,12])\n",
        "\n",
        "plt.axis('on')\n",
        "\n",
        "A = np.array([6,5])\n",
        "C = np.array([0,9])\n",
        "B = np.array([-4,3])\n",
        "\n",
        "def line_gen(A,B):\n",
        "  len =10\n",
        "  x_AB = np.zeros((2,len))\n",
        "  lam_1 = np.linspace(0,1,len)\n",
        "  for i in range(len):\n",
        "    temp1 = A + lam_1[i]*(B-A)\n",
        "    x_AB[:,i]= temp1.T\n",
        "  return x_AB\n",
        "\n",
        "x_AC = line_gen(A,C)\n",
        "x_BC = line_gen(B,C)\n",
        "\n",
        "\n",
        "\n",
        "plt.plot(x_AC[0,:],x_AC[1,:],label='$AC$')\n",
        "plt.plot(x_BC[0,:],x_BC[1,:],label='$BC$')\n",
        "\n",
        "\n",
        "plt.xlabel('$x-axis$')\n",
        "plt.ylabel('$y-axis$')\n",
        "\n",
        "plt.text (6,5,'A(6,5)')\n",
        "plt.text(-4,3,'B(-4,3)')\n",
        "plt.text(0,9,'C(0,9)')\n",
        "plt.legend(loc='best')\n",
        "plt.grid() \n",
        "plt.axis('equal')\n",
        "\n",
        "plt.show()"
      ],
      "execution_count": 10,
      "outputs": [
        {
          "output_type": "display_data",
          "data": {
            "image/png": "[encoded data removed]",
            "text/plain": [
              "<Figure size 432x288 with 1 Axes>"
            ]
          },
          "metadata": {
            "tags": [],
            "needs_background": "light"
          }
        }
      ]
    }
  ]
}